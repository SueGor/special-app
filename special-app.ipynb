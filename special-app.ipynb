{
 "cells": [
  {
   "cell_type": "code",
   "execution_count": 5,
   "id": "9baea8d6",
   "metadata": {},
   "outputs": [],
   "source": [
    "ddd = [34, 45, 65, 123]"
   ]
  },
  {
   "cell_type": "code",
   "execution_count": 9,
   "id": "e246c7ac",
   "metadata": {},
   "outputs": [
    {
     "data": {
      "text/plain": [
       "{34: 1, 45: 2, 65: 3, 123: 4}"
      ]
     },
     "execution_count": 9,
     "metadata": {},
     "output_type": "execute_result"
    }
   ],
   "source": [
    "dict_ddd = {}\n",
    "for i in range(1, len(ddd)+1):\n",
    "    dict_ddd[ddd[i-1]] = i\n",
    "dict_ddd"
   ]
  },
  {
   "cell_type": "code",
   "execution_count": null,
   "id": "a25a18e9",
   "metadata": {},
   "outputs": [],
   "source": []
  }
 ],
 "metadata": {
  "kernelspec": {
   "display_name": "Python 3 (ipykernel)",
   "language": "python",
   "name": "python3"
  },
  "language_info": {
   "codemirror_mode": {
    "name": "ipython",
    "version": 3
   },
   "file_extension": ".py",
   "mimetype": "text/x-python",
   "name": "python",
   "nbconvert_exporter": "python",
   "pygments_lexer": "ipython3",
   "version": "3.9.7"
  }
 },
 "nbformat": 4,
 "nbformat_minor": 5
}
