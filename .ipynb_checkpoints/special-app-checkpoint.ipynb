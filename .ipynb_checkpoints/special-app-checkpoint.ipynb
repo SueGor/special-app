{
 "cells": [
  {
   "cell_type": "code",
   "execution_count": 5,
   "id": "9baea8d6",
   "metadata": {},
   "outputs": [],
   "source": [
    "ddd = [34, 45, 65, 123]"
   ]
  },
  {
   "cell_type": "code",
   "execution_count": 9,
   "id": "e246c7ac",
   "metadata": {},
   "outputs": [
    {
     "data": {
      "text/plain": [
       "{34: 1, 45: 2, 65: 3, 123: 4}"
      ]
     },
     "execution_count": 9,
     "metadata": {},
     "output_type": "execute_result"
    }
   ],
   "source": [
    "dict_ddd = {}\n",
    "for i in range(1, len(ddd)+1):\n",
    "    dict_ddd[ddd[i-1]] = i\n",
    "dict_ddd"
   ]
  },
  {
   "cell_type": "code",
   "execution_count": 3,
   "id": "a25a18e9",
   "metadata": {},
   "outputs": [],
   "source": [
    "a = [1, 5, 8, 10]\n",
    "b = [2, 3, 4, 5, 6, 7, 9]"
   ]
  },
  {
   "cell_type": "code",
   "execution_count": 4,
   "id": "14db95c8",
   "metadata": {},
   "outputs": [
    {
     "data": {
      "text/plain": [
       "[1, 2, 3, 4, 5, 5, 6, 7, 8, 9, 10]"
      ]
     },
     "execution_count": 4,
     "metadata": {},
     "output_type": "execute_result"
    }
   ],
   "source": [
    "i1 = 0\n",
    "i2 = 0\n",
    "result = []\n",
    "\n",
    "while i1 < len(a) and i2 < len(b):\n",
    "    if a[i1] < b[i2]:\n",
    "        result.append(a[i1])\n",
    "        i1 += 1\n",
    "    else:\n",
    "        result.append(b[i2])\n",
    "        i2 += 1\n",
    "result += a[i1:]\n",
    "result += b[i2:]\n",
    "\n",
    "result"
   ]
  },
  {
   "cell_type": "code",
   "execution_count": 11,
   "id": "a9ea8913",
   "metadata": {},
   "outputs": [
    {
     "data": {
      "text/plain": [
       "{1238: 1350, 1400: 290, 1890: 6000, 890: 350}"
      ]
     },
     "execution_count": 11,
     "metadata": {},
     "output_type": "execute_result"
    }
   ],
   "source": [
    "customers = {1238: 1200, 1400: 145, 1890: 2500, 890: 350}\n",
    "byu = {1238: 150, 1400: 145, 1890: 3500}\n",
    "\n",
    "\n",
    "for k, v in customers.items():\n",
    "    if k in buy.keys():\n",
    "        customers[k] += byu[k]\n",
    "customers"
   ]
  },
  {
   "cell_type": "code",
   "execution_count": null,
   "id": "c625ff85",
   "metadata": {},
   "outputs": [],
   "source": []
  }
 ],
 "metadata": {
  "kernelspec": {
   "display_name": "Python 3 (ipykernel)",
   "language": "python",
   "name": "python3"
  },
  "language_info": {
   "codemirror_mode": {
    "name": "ipython",
    "version": 3
   },
   "file_extension": ".py",
   "mimetype": "text/x-python",
   "name": "python",
   "nbconvert_exporter": "python",
   "pygments_lexer": "ipython3",
   "version": "3.9.7"
  }
 },
 "nbformat": 4,
 "nbformat_minor": 5
}
