{
 "cells": [
  {
   "cell_type": "markdown",
   "metadata": {
    "id": "dzlIdYYYOGQn"
   },
   "source": [
    "В этом практическом задании три обязательные и одна дополнительная задача.\n",
    "\n",
    "*Обязательные задачи* нужно сделать, чтобы проверить, что вы действительно усвоили материал урока. Если у вас всё получилось, вы можете переходить к следующему уроку.\n",
    "\n",
    "*Дополнительные задачи* для тех, кто чувствует, что нужно ещё немного потренироваться и порешать задачки по программированию.\n",
    "\n",
    "Удачи!\n"
   ]
  },
  {
   "cell_type": "markdown",
   "metadata": {
    "id": "TzXf4ITNORw6"
   },
   "source": [
    "**Цели практического задания:**\n",
    "1. Научиться объявлять функции с различным числом входных и выходных параметров.\n",
    "2. Научиться менять состав возвращаемых значений в зависимости от различных условий.\n",
    "3. Попрактиковаться в работе с `None`.\n"
   ]
  },
  {
   "cell_type": "markdown",
   "metadata": {
    "id": "SLdpPbw4O-xq"
   },
   "source": [
    "---"
   ]
  },
  {
   "cell_type": "markdown",
   "metadata": {
    "id": "W3uMEB8m-9vP"
   },
   "source": [
    "**Обязательные задачи**"
   ]
  },
  {
   "cell_type": "markdown",
   "metadata": {
    "id": "RP6L2Jqu_n7J"
   },
   "source": [
    "*Задача 1. Функция сдачи зачёта*\n",
    "\n",
    "Ниже описана программа, которая рассчитывает зачёт/незачёт для студента по его оценкам. Оберните этот код в функцию `is_passed` таким образом, чтобы на входе она получала список оценок, а на выходе отдавала булево значение.\n",
    "\n",
    "Проверьте, что вызовы функции `is_passed` в последующих ячейках отработали верно.\n"
   ]
  },
  {
   "cell_type": "code",
   "execution_count": 5,
   "metadata": {
    "colab": {
     "base_uri": "https://localhost:8080/"
    },
    "executionInfo": {
     "elapsed": 235,
     "status": "ok",
     "timestamp": 1634302821715,
     "user": {
      "displayName": "Yulduz Fattakhova",
      "photoUrl": "https://lh3.googleusercontent.com/a-/AOh14GiMux79i3vxuxKnCVSDClfaXbH-jvsA0woYdDAT=s64",
      "userId": "14698334089562212742"
     },
     "user_tz": -180
    },
    "id": "K35gNSnh_nec",
    "outputId": "326e4fd0-f052-4a5a-ec07-71bf6357f625"
   },
   "outputs": [
    {
     "name": "stdout",
     "output_type": "stream",
     "text": [
      "Зачет получен: False\n"
     ]
    }
   ],
   "source": [
    "# Программа для расчёта зачёт/незачёт на списке scores\n",
    "scores = [1]\n",
    "count_5, count_other = 0, 0\n",
    "\n",
    "for score in scores:\n",
    "    if score == 5:\n",
    "        count_5 +=1\n",
    "    else:\n",
    "        count_other +=1\n",
    "\n",
    "print(\"Зачет получен:\", count_5 > count_other)\n"
   ]
  },
  {
   "cell_type": "code",
   "execution_count": 6,
   "metadata": {
    "id": "LM-NIhGh_ngh"
   },
   "outputs": [],
   "source": [
    "# Здесь ваш код\n",
    "def is_passed(scores):\n",
    "    count_5, count_other = 0, 0\n",
    "    for score in scores:\n",
    "        if score == 5:\n",
    "            count_5 += 1\n",
    "        else:\n",
    "            count_other += 1\n",
    "    print(\"Зачет получен:\", count_5 > count_other)"
   ]
  },
  {
   "cell_type": "code",
   "execution_count": 9,
   "metadata": {},
   "outputs": [
    {
     "name": "stdout",
     "output_type": "stream",
     "text": [
      "Зачет получен: False\n",
      "Зачет получен: False\n",
      "Зачет получен: True\n"
     ]
    }
   ],
   "source": [
    "scores_1 = [5, 5, 4, 4]\n",
    "is_passed(scores_1)\n",
    "scores_2 = [5, 5, 4, 4, 3, 2]\n",
    "is_passed(scores_2)\n",
    "scores_3 = [5, 5, 5, 5, 3, 2]\n",
    "is_passed(scores_3)"
   ]
  },
  {
   "cell_type": "code",
   "execution_count": null,
   "metadata": {
    "colab": {
     "base_uri": "https://localhost:8080/"
    },
    "executionInfo": {
     "elapsed": 247,
     "status": "ok",
     "timestamp": 1634302999866,
     "user": {
      "displayName": "Yulduz Fattakhova",
      "photoUrl": "https://lh3.googleusercontent.com/a-/AOh14GiMux79i3vxuxKnCVSDClfaXbH-jvsA0woYdDAT=s64",
      "userId": "14698334089562212742"
     },
     "user_tz": -180
    },
    "id": "sxPgWvTA_m8T",
    "outputId": "7453bc2a-2783-41b2-ea2c-f408beb904a6"
   },
   "outputs": [
    {
     "name": "stdout",
     "output_type": "stream",
     "text": [
      "Зачет получен: False\n"
     ]
    }
   ],
   "source": [
    "print(\"Зачет получен:\", is_passed([5, 5, 4, 4]))"
   ]
  },
  {
   "cell_type": "code",
   "execution_count": null,
   "metadata": {
    "colab": {
     "base_uri": "https://localhost:8080/"
    },
    "executionInfo": {
     "elapsed": 232,
     "status": "ok",
     "timestamp": 1634303025130,
     "user": {
      "displayName": "Yulduz Fattakhova",
      "photoUrl": "https://lh3.googleusercontent.com/a-/AOh14GiMux79i3vxuxKnCVSDClfaXbH-jvsA0woYdDAT=s64",
      "userId": "14698334089562212742"
     },
     "user_tz": -180
    },
    "id": "yY7WwTgYC9v1",
    "outputId": "4a1dc8f4-876d-4a67-affa-a086b5cffdee"
   },
   "outputs": [
    {
     "name": "stdout",
     "output_type": "stream",
     "text": [
      "Зачет получен: False\n"
     ]
    }
   ],
   "source": [
    "print(\"Зачет получен:\", is_passed([5, 5, 4, 4, 3, 2]))"
   ]
  },
  {
   "cell_type": "code",
   "execution_count": null,
   "metadata": {
    "colab": {
     "base_uri": "https://localhost:8080/"
    },
    "executionInfo": {
     "elapsed": 229,
     "status": "ok",
     "timestamp": 1634303038937,
     "user": {
      "displayName": "Yulduz Fattakhova",
      "photoUrl": "https://lh3.googleusercontent.com/a-/AOh14GiMux79i3vxuxKnCVSDClfaXbH-jvsA0woYdDAT=s64",
      "userId": "14698334089562212742"
     },
     "user_tz": -180
    },
    "id": "PiGgGTZNDA00",
    "outputId": "cbc7d010-59cf-43fb-8bac-3a5aaa7f15f9"
   },
   "outputs": [
    {
     "name": "stdout",
     "output_type": "stream",
     "text": [
      "Зачет получен: True\n"
     ]
    }
   ],
   "source": [
    "print(\"Зачет получен:\", is_passed([5, 5, 5, 5, 3, 2]))"
   ]
  },
  {
   "cell_type": "markdown",
   "metadata": {
    "id": "PREeXyh4DuFq"
   },
   "source": [
    "*Задача 2. Расчёт скидки*\n",
    "\n",
    "Вам нужно написать тело функции `discount_price`, которая рассчитывает суммарную стоимость товаров из списка `items_price` со скидкой `discount`. На выходе функция должна возвращать два значения:\n",
    "1. Суммарная стоимость товаров до скидки.\n",
    "2. Суммарная стоимость товаров после применения скидки.\n",
    "\n",
    "Проверьте, что функция `discount_price` в последующих ячейках отработала верно.\n",
    "\n"
   ]
  },
  {
   "cell_type": "code",
   "execution_count": 13,
   "metadata": {
    "id": "tKtlJf4KDCum"
   },
   "outputs": [],
   "source": [
    "def discount_price(items_price, discount):\n",
    "    # Здесь тело функции\n",
    "    sum_items_price, discount_price = 0, 0\n",
    "    for price in items_price:\n",
    "        sum_items_price += price\n",
    "        discount_price += price * (1 - discount / 100)\n",
    "    return sum_items_price, discount_price"
   ]
  },
  {
   "cell_type": "code",
   "execution_count": 15,
   "metadata": {},
   "outputs": [
    {
     "name": "stdout",
     "output_type": "stream",
     "text": [
      "(100, 95.0)\n",
      "(1000, 990.0)\n",
      "(4249, 2124.5)\n"
     ]
    }
   ],
   "source": [
    "items_price_1 = [100]\n",
    "discount_1 = 5\n",
    "print(discount_price(items_price_1, discount_1))\n",
    "items_price_2 = [100, 300, 400, 200]\n",
    "discount_2 = 1\n",
    "print(discount_price(items_price_2, discount_2))\n",
    "items_price_3 = [50, 999, 400, 1000, 1800]\n",
    "discount_3 = 50\n",
    "print(discount_price(items_price_3, discount_3))"
   ]
  },
  {
   "cell_type": "code",
   "execution_count": null,
   "metadata": {
    "colab": {
     "base_uri": "https://localhost:8080/"
    },
    "executionInfo": {
     "elapsed": 465,
     "status": "ok",
     "timestamp": 1634304489983,
     "user": {
      "displayName": "Yulduz Fattakhova",
      "photoUrl": "https://lh3.googleusercontent.com/a-/AOh14GiMux79i3vxuxKnCVSDClfaXbH-jvsA0woYdDAT=s64",
      "userId": "14698334089562212742"
     },
     "user_tz": -180
    },
    "id": "7IP0hFreIoYU",
    "outputId": "7982736c-8759-4a20-ab43-e1c2e02f9ab3"
   },
   "outputs": [
    {
     "data": {
      "text/plain": [
       "(100, 95.0)"
      ]
     },
     "execution_count": 18,
     "metadata": {},
     "output_type": "execute_result"
    }
   ],
   "source": [
    "print(discount_price([100], 5))"
   ]
  },
  {
   "cell_type": "code",
   "execution_count": null,
   "metadata": {
    "colab": {
     "base_uri": "https://localhost:8080/"
    },
    "executionInfo": {
     "elapsed": 313,
     "status": "ok",
     "timestamp": 1634304508827,
     "user": {
      "displayName": "Yulduz Fattakhova",
      "photoUrl": "https://lh3.googleusercontent.com/a-/AOh14GiMux79i3vxuxKnCVSDClfaXbH-jvsA0woYdDAT=s64",
      "userId": "14698334089562212742"
     },
     "user_tz": -180
    },
    "id": "XMWzW3h1Iqbf",
    "outputId": "01cdee70-fd97-4783-dc28-907282a1d2e8"
   },
   "outputs": [
    {
     "data": {
      "text/plain": [
       "(1000, 990.0)"
      ]
     },
     "execution_count": 19,
     "metadata": {},
     "output_type": "execute_result"
    }
   ],
   "source": [
    "print(discount_price([100, 300, 400, 200], 1))"
   ]
  },
  {
   "cell_type": "code",
   "execution_count": null,
   "metadata": {
    "colab": {
     "base_uri": "https://localhost:8080/"
    },
    "executionInfo": {
     "elapsed": 230,
     "status": "ok",
     "timestamp": 1634304564941,
     "user": {
      "displayName": "Yulduz Fattakhova",
      "photoUrl": "https://lh3.googleusercontent.com/a-/AOh14GiMux79i3vxuxKnCVSDClfaXbH-jvsA0woYdDAT=s64",
      "userId": "14698334089562212742"
     },
     "user_tz": -180
    },
    "id": "LxuKLMtUI79a",
    "outputId": "d350a632-2052-4497-dbd6-3983099398d7"
   },
   "outputs": [
    {
     "data": {
      "text/plain": [
       "(4249, 2124.5)"
      ]
     },
     "execution_count": 20,
     "metadata": {},
     "output_type": "execute_result"
    }
   ],
   "source": [
    "print(discount_price([50, 999, 400, 1000, 1800], 50))"
   ]
  },
  {
   "cell_type": "markdown",
   "metadata": {
    "id": "d9RXQmk_JywF"
   },
   "source": [
    "*Задача 3. Расчёт скидки на пустом списке*\n",
    "\n",
    "Допишите функцию из предыдущей задачи таким образом, чтобы если в список `items_price` приходил бы пустой список, функция возвращала `None`. Во всех остальных случаях функция также должна возвращать два значения: сумму до скидки и сумму после скидки.\n",
    "\n",
    "Проверьте, что функция `discount_price` в последующих ячейках отработала верно.\n"
   ]
  },
  {
   "cell_type": "code",
   "execution_count": 16,
   "metadata": {
    "id": "Fl2Y7Tl2JJyM"
   },
   "outputs": [],
   "source": [
    "# Здесь ваш код\n",
    "def discount_price(items_price, discount):\n",
    "    # Здесь тело функции\n",
    "    sum_items_price, discount_price = 0, 0\n",
    "    for price in items_price:\n",
    "        sum_items_price += price\n",
    "        discount_price += price * (1 - discount / 100)\n",
    "    if sum_items_price > 0:\n",
    "        return sum_items_price, discount_price"
   ]
  },
  {
   "cell_type": "code",
   "execution_count": 17,
   "metadata": {},
   "outputs": [
    {
     "name": "stdout",
     "output_type": "stream",
     "text": [
      "None\n",
      "(109, 95.92)\n"
     ]
    }
   ],
   "source": [
    "items_price_1 = []\n",
    "discount_1 = 50\n",
    "print(discount_price(items_price_1, discount_1))\n",
    "items_price_2 = [100, 9]\n",
    "discount_2 = 12\n",
    "print(discount_price(items_price_2, discount_2))"
   ]
  },
  {
   "cell_type": "code",
   "execution_count": null,
   "metadata": {
    "colab": {
     "base_uri": "https://localhost:8080/"
    },
    "executionInfo": {
     "elapsed": 222,
     "status": "ok",
     "timestamp": 1634305733659,
     "user": {
      "displayName": "Yulduz Fattakhova",
      "photoUrl": "https://lh3.googleusercontent.com/a-/AOh14GiMux79i3vxuxKnCVSDClfaXbH-jvsA0woYdDAT=s64",
      "userId": "14698334089562212742"
     },
     "user_tz": -180
    },
    "id": "zeqjDHgfNMmM",
    "outputId": "91ab93b7-8988-4d4d-98a7-ab8a7208744d"
   },
   "outputs": [
    {
     "name": "stdout",
     "output_type": "stream",
     "text": [
      "None\n"
     ]
    }
   ],
   "source": [
    "print(discount_price([], 50))"
   ]
  },
  {
   "cell_type": "code",
   "execution_count": null,
   "metadata": {
    "colab": {
     "base_uri": "https://localhost:8080/"
    },
    "executionInfo": {
     "elapsed": 350,
     "status": "ok",
     "timestamp": 1634305753386,
     "user": {
      "displayName": "Yulduz Fattakhova",
      "photoUrl": "https://lh3.googleusercontent.com/a-/AOh14GiMux79i3vxuxKnCVSDClfaXbH-jvsA0woYdDAT=s64",
      "userId": "14698334089562212742"
     },
     "user_tz": -180
    },
    "id": "IZpnQ4kGNPmL",
    "outputId": "83505101-f846-4a86-aba0-628864f7e21b"
   },
   "outputs": [
    {
     "name": "stdout",
     "output_type": "stream",
     "text": [
      "(109, 95.92)\n"
     ]
    }
   ],
   "source": [
    "print(discount_price([100, 9], 12))"
   ]
  },
  {
   "cell_type": "markdown",
   "metadata": {
    "id": "8mIPiznP5ZsX"
   },
   "source": [
    "---"
   ]
  },
  {
   "cell_type": "markdown",
   "metadata": {
    "id": "BpukfKVTNxEx"
   },
   "source": [
    "**Дополнительные задачи**"
   ]
  },
  {
   "cell_type": "markdown",
   "metadata": {
    "id": "sSjXpbLnToJn"
   },
   "source": [
    "*Задача 4. Нахождение минимума на списке с помощью минимума из двух*\n",
    "\n",
    "Напишите функцию `get_min2`, которая находит минимальное из двух значений и возвращает его в качестве результата. Далее напишите функцию `get_min_list`, которая ищет минимальное значение в списке с помощью `get_min2`.\n",
    "\n",
    "Проверьте, что функция `get_min_list` в последующих ячейках отработала верно.\n",
    "\n",
    " "
   ]
  },
  {
   "cell_type": "code",
   "execution_count": 3,
   "metadata": {
    "id": "gJBL4TEtNWwQ"
   },
   "outputs": [],
   "source": [
    "def get_min2(a, b):\n",
    "  # Здесь ваш код\n",
    "    if a > b:\n",
    "        min = b\n",
    "    else:\n",
    "        min = a\n",
    "    return min"
   ]
  },
  {
   "cell_type": "code",
   "execution_count": 4,
   "metadata": {},
   "outputs": [],
   "source": [
    "def get_min_list(list):\n",
    "    min_list = list[0]\n",
    "    for i in range(1, len(list)):\n",
    "        min_list = get_min2(min_list, list[i])\n",
    "    return(min_list)"
   ]
  },
  {
   "cell_type": "code",
   "execution_count": 9,
   "metadata": {},
   "outputs": [
    {
     "name": "stdout",
     "output_type": "stream",
     "text": [
      "0\n",
      "-100\n",
      "1\n"
     ]
    }
   ],
   "source": [
    "numbers1 = [1, 5, 10, 9, 90, 0]\n",
    "numbers2 = [1, 5, 10, 9, 90, -100]\n",
    "numbers3 = [5, 10, 1, 9, 1000000, 100]\n",
    "print(get_min_list(numbers1))\n",
    "print(get_min_list(numbers2))\n",
    "print(get_min_list(numbers3))"
   ]
  },
  {
   "cell_type": "code",
   "execution_count": 19,
   "metadata": {
    "id": "PuS1Ofx4Umwf"
   },
   "outputs": [],
   "source": [
    "def get_min_list(numbers):\n",
    "  # Здесь ваш код\n",
    "    for i in range(1, len(numbers)):\n",
    "        for j in range(len(numbers) - i):\n",
    "            if numbers[j] > numbers[j+1]:\n",
    "                numbers[j], numbers[j+1] = numbers[j+1], numbers[j]\n",
    "    return(numbers[0])"
   ]
  },
  {
   "cell_type": "code",
   "execution_count": 22,
   "metadata": {},
   "outputs": [
    {
     "data": {
      "text/plain": [
       "-100"
      ]
     },
     "execution_count": 22,
     "metadata": {},
     "output_type": "execute_result"
    }
   ],
   "source": [
    "a = 100\n",
    "b = -100\n",
    "get_min2(a, b)"
   ]
  },
  {
   "cell_type": "code",
   "execution_count": 24,
   "metadata": {},
   "outputs": [
    {
     "name": "stdout",
     "output_type": "stream",
     "text": [
      "0\n",
      "-100\n",
      "-1000000\n"
     ]
    }
   ],
   "source": [
    "numbers1 = [1, 5, 10, 9, 90, 0]\n",
    "numbers2 = [1, 5, 10, 9, 90, -100]\n",
    "numbers3 = [1, 5, 10, 9, -1000000, -100]\n",
    "print(get_min_list(numbers1))\n",
    "print(get_min_list(numbers2))\n",
    "print(get_min_list(numbers3))"
   ]
  },
  {
   "cell_type": "code",
   "execution_count": null,
   "metadata": {
    "colab": {
     "base_uri": "https://localhost:8080/"
    },
    "executionInfo": {
     "elapsed": 248,
     "status": "ok",
     "timestamp": 1634307922946,
     "user": {
      "displayName": "Yulduz Fattakhova",
      "photoUrl": "https://lh3.googleusercontent.com/a-/AOh14GiMux79i3vxuxKnCVSDClfaXbH-jvsA0woYdDAT=s64",
      "userId": "14698334089562212742"
     },
     "user_tz": -180
    },
    "id": "f76tFZ51V8G8",
    "outputId": "c1efc34a-5bf2-4d45-af04-97845bc65435"
   },
   "outputs": [
    {
     "data": {
      "text/plain": [
       "1"
      ]
     },
     "execution_count": 41,
     "metadata": {},
     "output_type": "execute_result"
    }
   ],
   "source": [
    "get_min2(1, 100)"
   ]
  },
  {
   "cell_type": "code",
   "execution_count": null,
   "metadata": {
    "colab": {
     "base_uri": "https://localhost:8080/"
    },
    "executionInfo": {
     "elapsed": 218,
     "status": "ok",
     "timestamp": 1634307934737,
     "user": {
      "displayName": "Yulduz Fattakhova",
      "photoUrl": "https://lh3.googleusercontent.com/a-/AOh14GiMux79i3vxuxKnCVSDClfaXbH-jvsA0woYdDAT=s64",
      "userId": "14698334089562212742"
     },
     "user_tz": -180
    },
    "id": "vxYR4NrQV-Xs",
    "outputId": "7e966b88-cd7c-4151-c030-e79e58a84e2a"
   },
   "outputs": [
    {
     "data": {
      "text/plain": [
       "-100"
      ]
     },
     "execution_count": 42,
     "metadata": {},
     "output_type": "execute_result"
    }
   ],
   "source": [
    "get_min2(100, -100)"
   ]
  },
  {
   "cell_type": "code",
   "execution_count": null,
   "metadata": {
    "colab": {
     "base_uri": "https://localhost:8080/"
    },
    "executionInfo": {
     "elapsed": 3,
     "status": "ok",
     "timestamp": 1634307891208,
     "user": {
      "displayName": "Yulduz Fattakhova",
      "photoUrl": "https://lh3.googleusercontent.com/a-/AOh14GiMux79i3vxuxKnCVSDClfaXbH-jvsA0woYdDAT=s64",
      "userId": "14698334089562212742"
     },
     "user_tz": -180
    },
    "id": "Gsi3TawIVX-G",
    "outputId": "0d1cb13b-5b5f-4e2c-db52-b9e4a4ac2542"
   },
   "outputs": [
    {
     "data": {
      "text/plain": [
       "0"
      ]
     },
     "execution_count": 37,
     "metadata": {},
     "output_type": "execute_result"
    }
   ],
   "source": [
    "get_min_list([1, 5, 10, 9, 90, 0])"
   ]
  },
  {
   "cell_type": "code",
   "execution_count": null,
   "metadata": {
    "colab": {
     "base_uri": "https://localhost:8080/"
    },
    "executionInfo": {
     "elapsed": 218,
     "status": "ok",
     "timestamp": 1634307896348,
     "user": {
      "displayName": "Yulduz Fattakhova",
      "photoUrl": "https://lh3.googleusercontent.com/a-/AOh14GiMux79i3vxuxKnCVSDClfaXbH-jvsA0woYdDAT=s64",
      "userId": "14698334089562212742"
     },
     "user_tz": -180
    },
    "id": "DqcHUhLyVg9U",
    "outputId": "88c1af16-58d6-4712-b628-0e9d676c1ab4"
   },
   "outputs": [
    {
     "data": {
      "text/plain": [
       "-100"
      ]
     },
     "execution_count": 39,
     "metadata": {},
     "output_type": "execute_result"
    }
   ],
   "source": [
    "get_min_list([1, 5, 10, 9, 90, -100])"
   ]
  },
  {
   "cell_type": "code",
   "execution_count": null,
   "metadata": {
    "colab": {
     "base_uri": "https://localhost:8080/"
    },
    "executionInfo": {
     "elapsed": 233,
     "status": "ok",
     "timestamp": 1634307912888,
     "user": {
      "displayName": "Yulduz Fattakhova",
      "photoUrl": "https://lh3.googleusercontent.com/a-/AOh14GiMux79i3vxuxKnCVSDClfaXbH-jvsA0woYdDAT=s64",
      "userId": "14698334089562212742"
     },
     "user_tz": -180
    },
    "id": "XV7jY3KrV2Pw",
    "outputId": "c38abf79-1421-4d24-ea41-b1a1e8240e3a"
   },
   "outputs": [
    {
     "data": {
      "text/plain": [
       "-1000000"
      ]
     },
     "execution_count": 40,
     "metadata": {},
     "output_type": "execute_result"
    }
   ],
   "source": [
    "get_min_list([1, 5, 10, 9, -1000000, -100])"
   ]
  },
  {
   "cell_type": "code",
   "execution_count": null,
   "metadata": {
    "id": "TPj6WXgiWRfE"
   },
   "outputs": [],
   "source": []
  }
 ],
 "metadata": {
  "colab": {
   "collapsed_sections": [],
   "name": "9.2_Работа_с_функциями_Практика.ipynb",
   "provenance": []
  },
  "kernelspec": {
   "display_name": "Python 3 (ipykernel)",
   "language": "python",
   "name": "python3"
  },
  "language_info": {
   "codemirror_mode": {
    "name": "ipython",
    "version": 3
   },
   "file_extension": ".py",
   "mimetype": "text/x-python",
   "name": "python",
   "nbconvert_exporter": "python",
   "pygments_lexer": "ipython3",
   "version": "3.9.7"
  }
 },
 "nbformat": 4,
 "nbformat_minor": 1
}
