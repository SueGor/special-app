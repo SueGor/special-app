{
 "cells": [
  {
   "cell_type": "markdown",
   "metadata": {
    "id": "0s7KwzcoPOk1"
   },
   "source": [
    "# Кортежи. Практическое задание\n",
    "\n",
    "В этом практическом задании две обязательные и одна дополнительная задача.\n",
    "\n",
    "*Обязательные задачи* нужно сделать, чтобы проверить, что вы действительно усвоили материал урока. Если у вас всё получилось, вы можете переходить к следующему уроку.\n",
    "\n",
    "*Дополнительные задачи* для тех, кто чувствует, что нужно ещё немного потренироваться и порешать задачки по программированию.\n",
    "\n",
    "Удачи!\n"
   ]
  },
  {
   "cell_type": "markdown",
   "metadata": {
    "id": "jEr3-vgMPQkS"
   },
   "source": [
    "**Цели практического задания:**\n",
    "\n",
    "\n",
    "1. Попрактиковать работу с типом данных tuple в Python.\n",
    "2. Научиться замерять время исполнения кода.\n",
    "\n",
    "\n"
   ]
  },
  {
   "cell_type": "markdown",
   "metadata": {
    "id": "hDxLPcTpP6Ex"
   },
   "source": [
    "\n",
    "\n",
    "---\n",
    "\n",
    "\n",
    "\n",
    "---\n",
    "\n"
   ]
  },
  {
   "cell_type": "markdown",
   "metadata": {
    "id": "fcPCFolWQHEy"
   },
   "source": [
    "**Обязательные задачи**"
   ]
  },
  {
   "cell_type": "markdown",
   "metadata": {
    "id": "KuvacxJ3mUVx"
   },
   "source": [
    "*Задача 1. Площадь прямоугольника*\n",
    "\n",
    "В списке `coords` лежат четыре кортежа, каждый из которых соответствует координатам вершины прямоугольника на координатной плоскости. Напишите функцию, которая находит площадь прямоугольника по его координатам.\n",
    "\n",
    "Обратите внимание: координаты могут находиться в любом порядке. Проверьте работоспособность программы на разных входных значениях списка.\n"
   ]
  },
  {
   "cell_type": "markdown",
   "metadata": {
    "id": "0VGogfghI9NH"
   },
   "source": [
    "Пример: \n",
    "\n",
    "Input: `coords = [(10, 20), (10, 30), (40, 20), (40, 30)]` \n",
    "\n",
    "Output: `300`\n",
    "\n",
    "Input: `coords = [(10, 20), (40, 20), (40, 30),  (10, 30)]` \n",
    "\n",
    "Output: `300`"
   ]
  },
  {
   "cell_type": "code",
   "execution_count": null,
   "metadata": {
    "id": "beXC4tzwmIo3"
   },
   "outputs": [],
   "source": [
    "coords = [(10, 20), (10, 30), (40, 20), (40, 30)]"
   ]
  },
  {
   "cell_type": "code",
   "execution_count": null,
   "metadata": {
    "id": "OXXUJr0QJKwC"
   },
   "outputs": [],
   "source": [
    "# Ваш код здесь"
   ]
  },
  {
   "cell_type": "markdown",
   "metadata": {
    "id": "LpdpNVmzhwac"
   },
   "source": [
    "*Задача 2. Расстановка людей в очереди*\n",
    "\n",
    "Есть три типа билетов, которые хранятся в кортеже `ticket_types`. Также есть список посетителей, которые на данный момент стоят в очереди, типы их билетов хранятся в `user_tickets`. \n",
    "\n",
    "Напишите функцию, которая отсортирует `user_tickets` по очереди, указанной в `ticket_types`. Сначала в `user_tickets` должны оказаться все билеты, которые находятся на нулевом месте в `ticket_types`, потом те, которые на первом месте  в `ticket_types`, затем остальные.\n",
    "\n",
    "Проверьте работоспособность программы на разных значениях `ticket_types`, `user_tickets`\n",
    "\n"
   ]
  },
  {
   "cell_type": "markdown",
   "metadata": {
    "id": "aY5A_BMTlAPb"
   },
   "source": [
    "Пример: \n",
    "\n",
    "Input: \n",
    "\n",
    "`ticket_types = ('Ж', 'К', 'З')`\n",
    "\n",
    "`user_tickets = ['З', 'К', 'К', 'З', 'З', 'З', 'Ж', 'К', 'Ж']` \n",
    "\n",
    "Output: \n",
    "\n",
    "`['Ж', 'Ж', 'К', 'К', 'К', 'З', 'З', 'З', 'З']`\n"
   ]
  },
  {
   "cell_type": "code",
   "execution_count": null,
   "metadata": {
    "id": "Ig5cDnhrO9i_"
   },
   "outputs": [],
   "source": [
    "ticket_types = ('Ж', 'К', 'З')\n",
    "user_tickets = ['З', 'К', 'К', 'З', 'З', 'З', 'Ж', 'К', 'Ж']"
   ]
  },
  {
   "cell_type": "code",
   "execution_count": null,
   "metadata": {
    "id": "hmTMM_dOmM39"
   },
   "outputs": [],
   "source": [
    "# Ваш код здесь"
   ]
  },
  {
   "cell_type": "markdown",
   "metadata": {
    "id": "9_ykKIaGmzuK"
   },
   "source": [
    "Попробуйте реализовать предыдущую задачу с помощью нового метода `.count()`. Он считает, сколько раз элемент встречается в списке. Например, чтобы найти, сколько раз `Ж` встречается в списке, нужно вызвать: `user_tickets.count('Ж')`.\n",
    "\n",
    "Сравните время выполнения вашего кода и кода c `count` c помощью функции `timeit`.\n",
    "\n",
    "P.S. Если вы изначально воспользовались методом `count`, сделайте задачу наоборот: попробуйте реализовать решение программы без его использования и также сравнить время выполнения.\n"
   ]
  },
  {
   "cell_type": "code",
   "execution_count": null,
   "metadata": {
    "id": "FUZhGHoNI0eN"
   },
   "outputs": [],
   "source": [
    "# Ваш код здесь"
   ]
  },
  {
   "cell_type": "markdown",
   "metadata": {
    "id": "KlXqFm7fmJPQ"
   },
   "source": [
    "**Дополнительные задачи**"
   ]
  },
  {
   "cell_type": "markdown",
   "metadata": {
    "id": "2sPR6oXyaQ9g"
   },
   "source": [
    "*Задача 3. Результаты анализов*\n",
    "\n",
    "Результаты одного из анализов могут принимать четыре значения: здоров/сомнительный результат/в группе риска/болен. Данное заключение принимается на основе значений порогов, которые хранятся в кортеже `thresholds`. \n",
    "\n",
    "Так, для кортежа со значениями `(2, 10, 15)`:\n",
    "- если количество бактерий 15 или больше, то человек здоров\n",
    "- от 10 включительно до 15 — сомнительный результат\n",
    "- от 2 включительно до 10 — в группе риска\n",
    "- менее двух — болен\n",
    "\n",
    "В списке `analysis_results` лежат результаты по количеству бактерий в каждом образце за день. Напишите функцию, которая рассчитывает, сколько в списке здоровых и больных людей, сколько сомнительных результатов и сколько человек в группе риска.\n",
    "\n",
    "Проверьте работоспособность программы на разных входных значениях `thresholds, analysis_results`.\n"
   ]
  },
  {
   "cell_type": "markdown",
   "metadata": {
    "id": "RfTxCLGuguNT"
   },
   "source": [
    "Пример: \n",
    "\n",
    "Input: \n",
    "\n",
    "`thresholds = (2, 10, 15)`\n",
    "\n",
    "`analysis_results = [100, 90, 2, 1, 0, 8, 7, 10, 12, 6, 4, 20, 3, 0]` \n",
    "\n",
    "Output: \n",
    "\n",
    "`здоров:3, сомнительный результат:2, в группе риска:6, болен: 3`"
   ]
  },
  {
   "cell_type": "code",
   "execution_count": null,
   "metadata": {
    "id": "q-Wv1kIXfvOA"
   },
   "outputs": [],
   "source": [
    "thresholds = (2, 10, 15)\n",
    "analysis_results = [100, 90, 2, 1, 0, 8, 7, 10, 12, 6, 4, 20, 3, 0]"
   ]
  },
  {
   "cell_type": "code",
   "execution_count": null,
   "metadata": {
    "id": "2IAZN2-9hadk"
   },
   "outputs": [],
   "source": [
    "# Ваш код здесь"
   ]
  },
  {
   "cell_type": "code",
   "execution_count": null,
   "metadata": {
    "id": "52zcazTYmOn5"
   },
   "outputs": [],
   "source": []
  },
  {
   "cell_type": "markdown",
   "metadata": {
    "id": "9nrRBaD2yfkr"
   },
   "source": [
    "\n",
    "\n",
    "---\n",
    "\n",
    "\n",
    "\n",
    "---\n",
    "\n",
    "|\n",
    "\n",
    "|\n",
    "\n",
    "|\n",
    "\n",
    "|\n",
    "\n",
    "|\n",
    "\n",
    "|\n",
    "\n",
    "|\n",
    "\n",
    "|\n",
    "\n",
    "|\n",
    "\n",
    "|\n",
    "\n",
    "|\n",
    "\n",
    "|\n",
    "\n",
    "|\n"
   ]
  },
  {
   "cell_type": "markdown",
   "metadata": {
    "id": "e_femPVIyfks"
   },
   "source": [
    "### Решения \n",
    "**Обязательные задачи**"
   ]
  },
  {
   "cell_type": "markdown",
   "metadata": {
    "id": "RCmw_VV0yfkt"
   },
   "source": [
    "*Задача 1. Площадь прямоугольника*\n",
    "\n",
    "В списке `coords` лежат четыре кортежа, каждый из которых соответствует координатам вершины прямоугольника на координатной плоскости. Напишите функцию, которая находит площадь прямоугольника по его координатам.\n",
    "\n",
    "Обратите внимание: координаты могут находиться в любом порядке. Проверьте работоспособность программы на разных входных значениях списка.\n"
   ]
  },
  {
   "cell_type": "markdown",
   "metadata": {
    "id": "iW74UwPByfkt"
   },
   "source": [
    "Пример: \n",
    "\n",
    "Input: `coords = [(10, 20), (10, 30), (40, 20), (40, 30)]` \n",
    "\n",
    "Output: `300`\n",
    "\n",
    "Input: `coords = [(10, 20), (40, 20), (40, 30),  (10, 30)]` \n",
    "\n",
    "Output: `300`"
   ]
  },
  {
   "cell_type": "code",
   "execution_count": 1,
   "metadata": {
    "executionInfo": {
     "elapsed": 369,
     "status": "ok",
     "timestamp": 1645568758250,
     "user": {
      "displayName": "Евгения Миллер",
      "photoUrl": "https://lh3.googleusercontent.com/a-/AOh14Gj2X0dQicVOw3_uvDLm2AdkkDjMIUubVj8NCWQ6=s64",
      "userId": "01842992490389353651"
     },
     "user_tz": -180
    },
    "id": "QO_k6dUTyfkt"
   },
   "outputs": [],
   "source": [
    "coords = [(10, 20), (10, 30), (40, 20), (40, 30)]"
   ]
  },
  {
   "cell_type": "code",
   "execution_count": 3,
   "metadata": {
    "executionInfo": {
     "elapsed": 2,
     "status": "ok",
     "timestamp": 1645568758614,
     "user": {
      "displayName": "Евгения Миллер",
      "photoUrl": "https://lh3.googleusercontent.com/a-/AOh14Gj2X0dQicVOw3_uvDLm2AdkkDjMIUubVj8NCWQ6=s64",
      "userId": "01842992490389353651"
     },
     "user_tz": -180
    },
    "id": "XL281BiIyfku"
   },
   "outputs": [],
   "source": [
    "def count_area(coords):\n",
    "    for point in coords[1:]:\n",
    "        print('1. ', coords[1:])\n",
    "        if point[0] != coords[0][0]:\n",
    "            print('point[0]', point[0], ' != coords[0][0]', coords[0][0])\n",
    "            width = coords[0][0] - point[0]\n",
    "        if point[1] != coords[0][1]:\n",
    "            print('point[1]', point[1], ' != coords[0][1]', coords[0][1])\n",
    "            height = coords[0][1] - point[1]\n",
    "    return width * height"
   ]
  },
  {
   "cell_type": "code",
   "execution_count": 4,
   "metadata": {},
   "outputs": [
    {
     "name": "stdout",
     "output_type": "stream",
     "text": [
      "1.  [(10, 30), (40, 20), (40, 30)]\n",
      "point[1] 30  != coords[0][1] 20\n",
      "1.  [(10, 30), (40, 20), (40, 30)]\n",
      "point[0] 40  != coords[0][0] 10\n",
      "1.  [(10, 30), (40, 20), (40, 30)]\n",
      "point[0] 40  != coords[0][0] 10\n",
      "point[1] 30  != coords[0][1] 20\n"
     ]
    },
    {
     "data": {
      "text/plain": [
       "300"
      ]
     },
     "execution_count": 4,
     "metadata": {},
     "output_type": "execute_result"
    }
   ],
   "source": [
    "count_area(coords)"
   ]
  },
  {
   "cell_type": "code",
   "execution_count": 6,
   "metadata": {
    "colab": {
     "base_uri": "https://localhost:8080/"
    },
    "executionInfo": {
     "elapsed": 2,
     "status": "ok",
     "timestamp": 1645568759457,
     "user": {
      "displayName": "Евгения Миллер",
      "photoUrl": "https://lh3.googleusercontent.com/a-/AOh14Gj2X0dQicVOw3_uvDLm2AdkkDjMIUubVj8NCWQ6=s64",
      "userId": "01842992490389353651"
     },
     "user_tz": -180
    },
    "id": "R4n1-62dz--N",
    "outputId": "b1528026-438b-4557-f4e3-d990d23f7ec5"
   },
   "outputs": [
    {
     "data": {
      "text/plain": [
       "300"
      ]
     },
     "execution_count": 6,
     "metadata": {},
     "output_type": "execute_result"
    }
   ],
   "source": [
    "count_area(coords)"
   ]
  },
  {
   "cell_type": "code",
   "execution_count": 7,
   "metadata": {
    "colab": {
     "base_uri": "https://localhost:8080/"
    },
    "executionInfo": {
     "elapsed": 2,
     "status": "ok",
     "timestamp": 1645568759829,
     "user": {
      "displayName": "Евгения Миллер",
      "photoUrl": "https://lh3.googleusercontent.com/a-/AOh14Gj2X0dQicVOw3_uvDLm2AdkkDjMIUubVj8NCWQ6=s64",
      "userId": "01842992490389353651"
     },
     "user_tz": -180
    },
    "id": "nn4emnpS0EiT",
    "outputId": "a91199cd-9ac8-4f03-ed08-bef9a3156a01"
   },
   "outputs": [
    {
     "data": {
      "text/plain": [
       "300"
      ]
     },
     "execution_count": 7,
     "metadata": {},
     "output_type": "execute_result"
    }
   ],
   "source": [
    "coords = [(10, 20), (40, 20), (40, 30), (10, 30)]\n",
    "count_area(coords)"
   ]
  },
  {
   "cell_type": "code",
   "execution_count": 9,
   "metadata": {
    "colab": {
     "base_uri": "https://localhost:8080/"
    },
    "executionInfo": {
     "elapsed": 6,
     "status": "ok",
     "timestamp": 1645568760641,
     "user": {
      "displayName": "Евгения Миллер",
      "photoUrl": "https://lh3.googleusercontent.com/a-/AOh14Gj2X0dQicVOw3_uvDLm2AdkkDjMIUubVj8NCWQ6=s64",
      "userId": "01842992490389353651"
     },
     "user_tz": -180
    },
    "id": "2KXj6wX8iIup",
    "outputId": "654b517c-4863-498f-c392-a6a5b194c92b"
   },
   "outputs": [
    {
     "data": {
      "text/plain": [
       "300"
      ]
     },
     "execution_count": 9,
     "metadata": {},
     "output_type": "execute_result"
    }
   ],
   "source": [
    "coords = [(10, 20), (40, 30), (10, 30), (40, 20)]\n",
    "count_area(coords)"
   ]
  },
  {
   "cell_type": "markdown",
   "metadata": {
    "id": "kskRQBv9yfku"
   },
   "source": [
    "*Задача 2. Расстановка людей в очереди*\n",
    "\n",
    "Есть три типа билетов, которые хранятся в кортеже `ticket_types`. Также есть список посетителей, которые на данный момент стоят в очереди, типы их билетов хранятся в `user_tickets`. \n",
    "\n",
    "Напишите функцию, которая отсортирует `user_tickets` по очереди, указанной в `ticket_types`. Сначала в `user_tickets` должны оказаться все билеты, которые находятся на нулевом месте в `ticket_types`, потом те, которые на первом месте  в `ticket_types`, затем остальные.\n",
    "\n",
    "Проверьте работоспособность программы на разных значениях `ticket_types`, `user_tickets`\n",
    "\n"
   ]
  },
  {
   "cell_type": "markdown",
   "metadata": {
    "id": "4hXO9L79yfku"
   },
   "source": [
    "Пример: \n",
    "\n",
    "Input: \n",
    "\n",
    "`ticket_types = ('Ж', 'К', 'З')`\n",
    "\n",
    "`user_tickets = ['З', 'К', 'К', 'З', 'З', 'З', 'Ж', 'К', 'Ж']` \n",
    "\n",
    "Output: \n",
    "\n",
    "`['Ж', 'Ж', 'К', 'К', 'К', 'З', 'З', 'З', 'З']`"
   ]
  },
  {
   "cell_type": "code",
   "execution_count": 10,
   "metadata": {
    "executionInfo": {
     "elapsed": 482,
     "status": "ok",
     "timestamp": 1645569178886,
     "user": {
      "displayName": "Евгения Миллер",
      "photoUrl": "https://lh3.googleusercontent.com/a-/AOh14Gj2X0dQicVOw3_uvDLm2AdkkDjMIUubVj8NCWQ6=s64",
      "userId": "01842992490389353651"
     },
     "user_tz": -180
    },
    "id": "Cek0DRSgyfku"
   },
   "outputs": [],
   "source": [
    "ticket_types = ('Ж', 'К', 'З')\n",
    "user_tickets = ['З', 'К', 'К', 'З', 'З', 'З', 'Ж', 'К', 'Ж']"
   ]
  },
  {
   "cell_type": "code",
   "execution_count": 11,
   "metadata": {
    "executionInfo": {
     "elapsed": 3,
     "status": "ok",
     "timestamp": 1645569180523,
     "user": {
      "displayName": "Евгения Миллер",
      "photoUrl": "https://lh3.googleusercontent.com/a-/AOh14Gj2X0dQicVOw3_uvDLm2AdkkDjMIUubVj8NCWQ6=s64",
      "userId": "01842992490389353651"
     },
     "user_tz": -180
    },
    "id": "99W4-AMuyfku"
   },
   "outputs": [],
   "source": [
    "def sort_queue(user_tickets, ticket_types):\n",
    "    sorted_tickets = []\n",
    "    for ticket in ticket_types:\n",
    "        for user in user_tickets:\n",
    "            if ticket == user: \n",
    "                sorted_tickets.append(ticket)\n",
    "\n",
    "    return sorted_tickets"
   ]
  },
  {
   "cell_type": "code",
   "execution_count": 19,
   "metadata": {
    "colab": {
     "base_uri": "https://localhost:8080/"
    },
    "executionInfo": {
     "elapsed": 361,
     "status": "ok",
     "timestamp": 1645569564386,
     "user": {
      "displayName": "Евгения Миллер",
      "photoUrl": "https://lh3.googleusercontent.com/a-/AOh14Gj2X0dQicVOw3_uvDLm2AdkkDjMIUubVj8NCWQ6=s64",
      "userId": "01842992490389353651"
     },
     "user_tz": -180
    },
    "id": "r2g6aCESltcr",
    "outputId": "c083dad3-7387-4c19-b362-80f5d035ec4b"
   },
   "outputs": [
    {
     "data": {
      "text/plain": [
       "['Ж', 'Ж', 'К', 'К', 'К', 'З', 'З', 'З', 'З']"
      ]
     },
     "execution_count": 19,
     "metadata": {},
     "output_type": "execute_result"
    }
   ],
   "source": [
    "sort_queue(user_tickets, ticket_types)"
   ]
  },
  {
   "cell_type": "markdown",
   "metadata": {
    "id": "-CRtzwLXyfkv"
   },
   "source": [
    "Попробуйте реализовать предыдущую задачу с помощью нового метода `.count()`. Он считает, сколько раз элемент встречается в списке. Например, чтобы найти, сколько раз `Ж` встречается в списке, нужно вызвать: `user_tickets.count('Ж')`.\n",
    "\n",
    "Сравните время выполнения вашего кода и кода c `count` c помощью функции `timeit`.\n",
    "\n",
    "P.S. Если вы изначально воспользовались методом `count`, сделайте задачу наоборот: попробуйте реализовать решение программы без его использования и также сравнить время выполнения.\n"
   ]
  },
  {
   "cell_type": "code",
   "execution_count": 15,
   "metadata": {
    "executionInfo": {
     "elapsed": 4,
     "status": "ok",
     "timestamp": 1645569433141,
     "user": {
      "displayName": "Евгения Миллер",
      "photoUrl": "https://lh3.googleusercontent.com/a-/AOh14Gj2X0dQicVOw3_uvDLm2AdkkDjMIUubVj8NCWQ6=s64",
      "userId": "01842992490389353651"
     },
     "user_tz": -180
    },
    "id": "xLz_zlS3yfkv"
   },
   "outputs": [],
   "source": [
    "def sort_queue2(user_tickets, ticket_types):\n",
    "    sorted_tickets = []\n",
    "    for ticket in ticket_types:\n",
    "        sorted_tickets += ticket * user_tickets.count(ticket)\n",
    "\n",
    "    return sorted_tickets"
   ]
  },
  {
   "cell_type": "code",
   "execution_count": 20,
   "metadata": {
    "colab": {
     "base_uri": "https://localhost:8080/"
    },
    "executionInfo": {
     "elapsed": 504,
     "status": "ok",
     "timestamp": 1645569578512,
     "user": {
      "displayName": "Евгения Миллер",
      "photoUrl": "https://lh3.googleusercontent.com/a-/AOh14Gj2X0dQicVOw3_uvDLm2AdkkDjMIUubVj8NCWQ6=s64",
      "userId": "01842992490389353651"
     },
     "user_tz": -180
    },
    "id": "b5HxEZy8lwuF",
    "outputId": "7a39f5ef-0fdf-4548-8c61-e7d3957a33d5"
   },
   "outputs": [
    {
     "data": {
      "text/plain": [
       "['Ж', 'Ж', 'К', 'К', 'К', 'З', 'З', 'З', 'З']"
      ]
     },
     "execution_count": 20,
     "metadata": {},
     "output_type": "execute_result"
    }
   ],
   "source": [
    "sort_queue2(user_tickets, ticket_types)"
   ]
  },
  {
   "cell_type": "code",
   "execution_count": 18,
   "metadata": {
    "colab": {
     "base_uri": "https://localhost:8080/"
    },
    "executionInfo": {
     "elapsed": 10776,
     "status": "ok",
     "timestamp": 1645569523988,
     "user": {
      "displayName": "Евгения Миллер",
      "photoUrl": "https://lh3.googleusercontent.com/a-/AOh14Gj2X0dQicVOw3_uvDLm2AdkkDjMIUubVj8NCWQ6=s64",
      "userId": "01842992490389353651"
     },
     "user_tz": -180
    },
    "id": "E14gGmpjlKVO",
    "outputId": "95d7c698-acc1-48d6-806f-bc741f28da55"
   },
   "outputs": [
    {
     "name": "stdout",
     "output_type": "stream",
     "text": [
      "The slowest run took 6.37 times longer than the fastest. This could mean that an intermediate result is being cached.\n",
      "1000000 loops, best of 5: 1.67 µs per loop\n"
     ]
    }
   ],
   "source": [
    "%%timeit\n",
    "sort_queue2(user_tickets, ticket_types)"
   ]
  },
  {
   "cell_type": "code",
   "execution_count": 17,
   "metadata": {
    "colab": {
     "base_uri": "https://localhost:8080/"
    },
    "executionInfo": {
     "elapsed": 1641,
     "status": "ok",
     "timestamp": 1645569505486,
     "user": {
      "displayName": "Евгения Миллер",
      "photoUrl": "https://lh3.googleusercontent.com/a-/AOh14Gj2X0dQicVOw3_uvDLm2AdkkDjMIUubVj8NCWQ6=s64",
      "userId": "01842992490389353651"
     },
     "user_tz": -180
    },
    "id": "2DSB_mUzkRJy",
    "outputId": "20d6bfa4-2c2b-4ec0-e404-c9d60be515b7"
   },
   "outputs": [
    {
     "name": "stdout",
     "output_type": "stream",
     "text": [
      "The slowest run took 4.03 times longer than the fastest. This could mean that an intermediate result is being cached.\n",
      "100000 loops, best of 5: 2.19 µs per loop\n"
     ]
    }
   ],
   "source": [
    "%%timeit\n",
    "sort_queue(user_tickets, ticket_types)"
   ]
  },
  {
   "cell_type": "markdown",
   "metadata": {
    "id": "uNOpo27Xyfkv"
   },
   "source": [
    "**Дополнительные задачи**"
   ]
  },
  {
   "cell_type": "markdown",
   "metadata": {
    "id": "JGu0__Moyfkv"
   },
   "source": [
    "*Задача 3. Результаты анализов*\n",
    "\n",
    "Результаты одного из анализов могут принимать четыре значения: здоров/сомнительный результат/в группе риска/болен. Данное заключение принимается на основе значений порогов, которые хранятся в кортеже `thresholds`. \n",
    "\n",
    "Так, для кортежа со значениями `(2, 10, 15)`:\n",
    "- если количество бактерий 15 или больше, то человек здоров\n",
    "- от 10 включительно до 15 — сомнительный результат\n",
    "- от 2 включительно до 10 — в группе риска\n",
    "- менее двух — болен\n",
    "\n",
    "В списке `analysis_results` лежат результаты по количеству бактерий в каждом образце за день. Напишите функцию, которая рассчитывает, сколько в списке здоровых и больных людей, сколько сомнительных результатов и сколько человек в группе риска.\n",
    "\n",
    "Проверьте работоспособность программы на разных входных значениях `thresholds, analysis_results`.\n"
   ]
  },
  {
   "cell_type": "markdown",
   "metadata": {
    "id": "l5VRUkdZyfkv"
   },
   "source": [
    "Пример: \n",
    "\n",
    "Input: \n",
    "\n",
    "`thresholds = (2, 10, 15)`\n",
    "\n",
    "`analysis_results = [100, 90, 2, 1, 0, 8, 7, 10, 12, 6, 4, 20, 3, 0]` \n",
    "\n",
    "Output: \n",
    "\n",
    "`здоров:3, сомнительный результат:2, в группе риска:6, болен: 3`"
   ]
  },
  {
   "cell_type": "code",
   "execution_count": 28,
   "metadata": {
    "executionInfo": {
     "elapsed": 381,
     "status": "ok",
     "timestamp": 1645570215619,
     "user": {
      "displayName": "Евгения Миллер",
      "photoUrl": "https://lh3.googleusercontent.com/a-/AOh14Gj2X0dQicVOw3_uvDLm2AdkkDjMIUubVj8NCWQ6=s64",
      "userId": "01842992490389353651"
     },
     "user_tz": -180
    },
    "id": "etKRqzTEyfkw"
   },
   "outputs": [],
   "source": [
    "thresholds = (2, 10, 15)\n",
    "analysis_results = [100, 90, 2, 1, 0, 8, 7, 10, 12, 6, 4, 20, 3, 0]"
   ]
  },
  {
   "cell_type": "code",
   "execution_count": 31,
   "metadata": {
    "executionInfo": {
     "elapsed": 1,
     "status": "ok",
     "timestamp": 1645570223730,
     "user": {
      "displayName": "Евгения Миллер",
      "photoUrl": "https://lh3.googleusercontent.com/a-/AOh14Gj2X0dQicVOw3_uvDLm2AdkkDjMIUubVj8NCWQ6=s64",
      "userId": "01842992490389353651"
     },
     "user_tz": -180
    },
    "id": "7z43b7Kxyfkw"
   },
   "outputs": [],
   "source": [
    "def count_stats(analysis_results, thresholds):\n",
    "    healthy, sick, risk, doubtful = 0, 0, 0, 0\n",
    "    for r in analysis_results:\n",
    "        if r >= thresholds[2]:\n",
    "            healthy += 1\n",
    "        elif r >= thresholds[1]:\n",
    "            doubtful += 1\n",
    "        elif r >= thresholds[0]:\n",
    "            risk += 1\n",
    "        else:\n",
    "            sick += 1\n",
    "    print(f'здоров: {healthy}, сомнительный результат: {doubtful}, в группе риска: {risk}, болен: {sick}')"
   ]
  },
  {
   "cell_type": "code",
   "execution_count": 32,
   "metadata": {
    "colab": {
     "base_uri": "https://localhost:8080/"
    },
    "executionInfo": {
     "elapsed": 2,
     "status": "ok",
     "timestamp": 1645570224108,
     "user": {
      "displayName": "Евгения Миллер",
      "photoUrl": "https://lh3.googleusercontent.com/a-/AOh14Gj2X0dQicVOw3_uvDLm2AdkkDjMIUubVj8NCWQ6=s64",
      "userId": "01842992490389353651"
     },
     "user_tz": -180
    },
    "id": "26bR1Afayfkw",
    "outputId": "01fafa28-8dc1-4fbb-d598-38a260caa936"
   },
   "outputs": [
    {
     "name": "stdout",
     "output_type": "stream",
     "text": [
      "здоров: 3, сомнительный результат: 2, в группе риска: 6, болен: 3\n"
     ]
    }
   ],
   "source": [
    "count_stats(analysis_results, thresholds)"
   ]
  },
  {
   "cell_type": "code",
   "execution_count": null,
   "metadata": {
    "id": "rm0mQ85sn6sz"
   },
   "outputs": [],
   "source": []
  }
 ],
 "metadata": {
  "colab": {
   "collapsed_sections": [],
   "name": "10.2_Кортежи_Практика.ipynb",
   "provenance": []
  },
  "kernelspec": {
   "display_name": "Python 3 (ipykernel)",
   "language": "python",
   "name": "python3"
  },
  "language_info": {
   "codemirror_mode": {
    "name": "ipython",
    "version": 3
   },
   "file_extension": ".py",
   "mimetype": "text/x-python",
   "name": "python",
   "nbconvert_exporter": "python",
   "pygments_lexer": "ipython3",
   "version": "3.9.7"
  }
 },
 "nbformat": 4,
 "nbformat_minor": 1
}
